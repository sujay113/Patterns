{
 "cells": [
  {
   "cell_type": "code",
   "execution_count": 4,
   "id": "0fcdc882",
   "metadata": {},
   "outputs": [
    {
     "name": "stdout",
     "output_type": "stream",
     "text": [
      "*****\n",
      "*****\n",
      "*****\n",
      "*****\n",
      "*****\n"
     ]
    }
   ],
   "source": [
    "# pattern1\n",
    "n=5\n",
    "for i in range(n):\n",
    "    for j in range(n):\n",
    "        print(\"*\",end=\"\")\n",
    "    print()"
   ]
  },
  {
   "cell_type": "code",
   "execution_count": 7,
   "id": "b38ad1b1",
   "metadata": {},
   "outputs": [
    {
     "name": "stdout",
     "output_type": "stream",
     "text": [
      "* \n",
      "* * \n",
      "* * * \n",
      "* * * * \n",
      "* * * * * \n"
     ]
    }
   ],
   "source": [
    "#pattern2\n",
    "for i in range(n):\n",
    "    for j in range(i+1):\n",
    "        print(\"*\",end=\" \")\n",
    "    print()"
   ]
  },
  {
   "cell_type": "code",
   "execution_count": 9,
   "id": "cb719a1c",
   "metadata": {},
   "outputs": [
    {
     "name": "stdout",
     "output_type": "stream",
     "text": [
      "1 \n",
      "1 2 \n",
      "1 2 3 \n",
      "1 2 3 4 \n",
      "1 2 3 4 5 \n"
     ]
    }
   ],
   "source": [
    "#pattern3\n",
    "for i in range(n):\n",
    "    for j in range(i+1):\n",
    "        print(j+1,end=\" \")\n",
    "    print()"
   ]
  },
  {
   "cell_type": "code",
   "execution_count": 10,
   "id": "206159e0",
   "metadata": {},
   "outputs": [
    {
     "name": "stdout",
     "output_type": "stream",
     "text": [
      "1 \n",
      "2 2 \n",
      "3 3 3 \n",
      "4 4 4 4 \n",
      "5 5 5 5 5 \n"
     ]
    }
   ],
   "source": [
    "#pattern4\n",
    "for i in range(n):\n",
    "    for j in range(i+1):\n",
    "        print(i+1,end=\" \")\n",
    "    print()"
   ]
  },
  {
   "cell_type": "code",
   "execution_count": 11,
   "id": "2f299d9c",
   "metadata": {},
   "outputs": [
    {
     "name": "stdout",
     "output_type": "stream",
     "text": [
      "* * * * * \n",
      "* * * * \n",
      "* * * \n",
      "* * \n",
      "* \n"
     ]
    }
   ],
   "source": [
    "#pattern5\n",
    "for i in range(n):\n",
    "    for j in range(n-i):\n",
    "        print(\"*\",end=\" \")\n",
    "    print()"
   ]
  },
  {
   "cell_type": "code",
   "execution_count": 13,
   "id": "3ab15906",
   "metadata": {},
   "outputs": [
    {
     "name": "stdout",
     "output_type": "stream",
     "text": [
      "1 2 3 4 5 \n",
      "1 2 3 4 \n",
      "1 2 3 \n",
      "1 2 \n",
      "1 \n"
     ]
    }
   ],
   "source": [
    "#pattern6\n",
    "for i in range(n):\n",
    "    for j in range(n-i):\n",
    "        print(j+1,end=\" \")\n",
    "    print()"
   ]
  },
  {
   "cell_type": "code",
   "execution_count": 14,
   "id": "e05a1032",
   "metadata": {},
   "outputs": [
    {
     "name": "stdout",
     "output_type": "stream",
     "text": [
      "        * \n",
      "      * * * \n",
      "    * * * * * \n",
      "  * * * * * * * \n",
      "* * * * * * * * * \n"
     ]
    }
   ],
   "source": [
    "#pattern7\n",
    "for i in range(n):\n",
    "    for j in range(n-i-1):\n",
    "        print(\" \",end=\" \")\n",
    "    for j in range(2*i+1):\n",
    "        print(\"*\",end=\" \")\n",
    "    print()"
   ]
  },
  {
   "cell_type": "code",
   "execution_count": 16,
   "id": "82ad377d",
   "metadata": {},
   "outputs": [
    {
     "name": "stdout",
     "output_type": "stream",
     "text": [
      "* * * * * * * * * \n",
      "  * * * * * * * \n",
      "    * * * * * \n",
      "      * * * \n",
      "        * \n"
     ]
    }
   ],
   "source": [
    "#pattern8\n",
    "for i in range(n):\n",
    "    for j in range(i):\n",
    "        print(\" \",end=\" \")\n",
    "    for j in range(2*(n-i-1)+1):\n",
    "        print(\"*\",end=\" \")\n",
    "    print()"
   ]
  },
  {
   "cell_type": "code",
   "execution_count": 96,
   "id": "1783ae5b",
   "metadata": {},
   "outputs": [
    {
     "name": "stdout",
     "output_type": "stream",
     "text": [
      "    *\n",
      "   ***\n",
      "  *****\n",
      " *******\n",
      "*********\n",
      " *******\n",
      "  *****\n",
      "   ***\n",
      "    *\n"
     ]
    }
   ],
   "source": [
    "# pattern9\n",
    "for i in range(n):\n",
    "    for j in range(n-i-1):\n",
    "        print(\" \",end=\"\")\n",
    "    for j in range(2*i+1):\n",
    "        print(\"*\",end=\"\")\n",
    "    print()\n",
    "for i in range(n-1):\n",
    "    for j in range(i+1):\n",
    "        print(\" \",end=\"\")\n",
    "    for j in range(2*(n-i-2)+1):\n",
    "        print(\"*\",end=\"\")\n",
    "    print()\n"
   ]
  },
  {
   "cell_type": "code",
   "execution_count": 21,
   "id": "015a7d3b",
   "metadata": {},
   "outputs": [
    {
     "name": "stdout",
     "output_type": "stream",
     "text": [
      "* \n",
      "* * \n",
      "* * * \n",
      "* * * * \n",
      "* * * * * \n",
      "* * * * \n",
      "* * * \n",
      "* * \n",
      "* \n",
      "\n"
     ]
    }
   ],
   "source": [
    "#pattern10\n",
    "for i in range(n):\n",
    "    for j in range(i+1):\n",
    "        print(\"*\",end=\" \")\n",
    "    print()\n",
    "for i in range(n):\n",
    "    for j in range(n-i-1):\n",
    "        print(\"*\",end=\" \")\n",
    "    print()"
   ]
  },
  {
   "cell_type": "code",
   "execution_count": 6,
   "id": "5fe44cfb",
   "metadata": {},
   "outputs": [
    {
     "name": "stdout",
     "output_type": "stream",
     "text": [
      "1 \n",
      "0 1 \n",
      "1 0 1 \n",
      "0 1 0 1 \n",
      "1 0 1 0 1 \n"
     ]
    }
   ],
   "source": [
    "#pattern11\n",
    "n=5\n",
    "for i in range(n):\n",
    "    for j in range(i+1):\n",
    "        if(i+j)%2==0:\n",
    "            print(\"1\",end=\" \")\n",
    "        else:\n",
    "            print(\"0\",end=\" \")\n",
    "    print()\n",
    "            "
   ]
  },
  {
   "cell_type": "code",
   "execution_count": 7,
   "id": "6ad4da1a",
   "metadata": {},
   "outputs": [
    {
     "name": "stdout",
     "output_type": "stream",
     "text": [
      "0 \n",
      "1 0 \n",
      "0 1 0 \n",
      "1 0 1 0 \n",
      "0 1 0 1 0 \n"
     ]
    }
   ],
   "source": [
    "#pattern12\n",
    "n=5\n",
    "for i in range(n):\n",
    "    for j in range(i+1):\n",
    "        if(i+j+1)%2==0:\n",
    "            print(\"1\",end=\" \")\n",
    "        else:\n",
    "            print(\"0\",end=\" \")\n",
    "    print()\n",
    "            "
   ]
  },
  {
   "cell_type": "code",
   "execution_count": 26,
   "id": "cdaf4b1a",
   "metadata": {},
   "outputs": [
    {
     "name": "stdout",
     "output_type": "stream",
     "text": [
      "1      1\n",
      "12    21\n",
      "123  321\n",
      "12344321\n"
     ]
    }
   ],
   "source": [
    "#pattern13\n",
    "n=4\n",
    "for i in range(n):\n",
    "    for j in range(i+1):\n",
    "        print(j+1,end=\"\")\n",
    "    for j in range(2*(n-i-1)):\n",
    "        print(\" \",end=\"\")\n",
    "    for j in range(i+1,0,-1):\n",
    "        print(j,end=\"\")\n",
    "    print()\n",
    "            "
   ]
  },
  {
   "cell_type": "code",
   "execution_count": 30,
   "id": "7a314392",
   "metadata": {},
   "outputs": [
    {
     "name": "stdout",
     "output_type": "stream",
     "text": [
      "1 \n",
      "2 3 \n",
      "4 5 6 \n",
      "7 8 9 10 \n",
      "11 12 13 14 15 \n"
     ]
    }
   ],
   "source": [
    "#pattern14\n",
    "n=5\n",
    "k=1\n",
    "for i in range(n):\n",
    "    for j in range(i+1):\n",
    "        print(k,end=\" \")\n",
    "        k+=1\n",
    "    print()"
   ]
  },
  {
   "cell_type": "code",
   "execution_count": 36,
   "id": "d2622c80",
   "metadata": {},
   "outputs": [
    {
     "name": "stdout",
     "output_type": "stream",
     "text": [
      "A \n",
      "A B \n",
      "A B C \n",
      "A B C D \n",
      "A B C D E \n"
     ]
    }
   ],
   "source": [
    "#pattern15\n",
    "n=5\n",
    "k=1\n",
    "def numtochr(num):\n",
    "    return chr(65+num)\n",
    "for i in range(n):\n",
    "    for j in range(i+1):\n",
    "        print(numtochr(j),end=\" \")\n",
    "        k+=1\n",
    "    print()"
   ]
  },
  {
   "cell_type": "code",
   "execution_count": 37,
   "id": "d185faeb",
   "metadata": {},
   "outputs": [
    {
     "name": "stdout",
     "output_type": "stream",
     "text": [
      "A B C D E \n",
      "A B C D \n",
      "A B C \n",
      "A B \n",
      "A \n"
     ]
    }
   ],
   "source": [
    "#pattern16\n",
    "n=5\n",
    "k=1\n",
    "def numtochr(num):\n",
    "    return chr(65+num)\n",
    "for i in range(n):\n",
    "    for j in range(n-i):\n",
    "        print(numtochr(j),end=\" \")\n",
    "        k+=1\n",
    "    print()"
   ]
  },
  {
   "cell_type": "code",
   "execution_count": 39,
   "id": "41e03733",
   "metadata": {},
   "outputs": [
    {
     "name": "stdout",
     "output_type": "stream",
     "text": [
      "A\n",
      "BB\n",
      "CCC\n",
      "DDDD\n",
      "EEEEE\n"
     ]
    }
   ],
   "source": [
    "#pattern17\n",
    "n=5\n",
    "k=1\n",
    "def numtochr(num):\n",
    "    return chr(65+num)\n",
    "for i in range(n):\n",
    "    for j in range(i+1):\n",
    "        print(numtochr(i),end=\"\")\n",
    "        k+=1\n",
    "    print()"
   ]
  },
  {
   "cell_type": "code",
   "execution_count": 54,
   "id": "5f546938",
   "metadata": {},
   "outputs": [
    {
     "name": "stdout",
     "output_type": "stream",
     "text": [
      "    A\n",
      "   ABA\n",
      "  ABCBA\n",
      " ABCDCBA\n"
     ]
    }
   ],
   "source": [
    "#pattern18\n",
    "n=4\n",
    "k=1\n",
    "def numtochr(num):\n",
    "    return chr(65+num)\n",
    "for i in range(n):\n",
    "    for j in range(n-i):\n",
    "        print(\" \",end=\"\")\n",
    "    for j in range(i+1):\n",
    "        print(numtochr(j),end=\"\")\n",
    "        k+=1\n",
    "    for j in range(i,0,-1):\n",
    "        print(numtochr(j-1),end=\"\")\n",
    "        k+=1\n",
    "    print()"
   ]
  },
  {
   "cell_type": "code",
   "execution_count": 73,
   "id": "bb305c7c",
   "metadata": {},
   "outputs": [
    {
     "name": "stdout",
     "output_type": "stream",
     "text": [
      "E \n",
      "D E \n",
      "C D E \n",
      "B C D E \n",
      "A B C D E \n"
     ]
    }
   ],
   "source": [
    "#pattern19\n",
    "n=5\n",
    "k=0\n",
    "def numtochr(num):\n",
    "    return chr(70-num)\n",
    "for i in range(n):\n",
    "    k=k+1\n",
    "    temp=k\n",
    "    for j in range(i+1):\n",
    "        print(numtochr(temp),end=\" \")\n",
    "        temp-=1\n",
    "    print()\n"
   ]
  },
  {
   "cell_type": "code",
   "execution_count": 83,
   "id": "1a09f2c7",
   "metadata": {},
   "outputs": [
    {
     "name": "stdout",
     "output_type": "stream",
     "text": [
      "**********\n",
      "****  ****\n",
      "***    ***\n",
      "**      **\n",
      "*        *\n",
      "*        *\n",
      "**      **\n",
      "***    ***\n",
      "****  ****\n",
      "**********\n"
     ]
    }
   ],
   "source": [
    "#pattern20\n",
    "n=5\n",
    "for i in range(n):\n",
    "    for j in range(n-i):\n",
    "        print(\"*\",end=\"\")\n",
    "    for j in range(2*i):\n",
    "        print(\" \",end=\"\")\n",
    "    for j in range(n-i):\n",
    "        print(\"*\",end=\"\")\n",
    "    print()\n",
    "for i in range(n):\n",
    "    for j in range(i+1):\n",
    "        print(\"*\",end=\"\")\n",
    "    for j in range(2*(n-i-1)):\n",
    "        print(\" \",end=\"\")\n",
    "    for j in range(i+1,0,-1):\n",
    "        print(\"*\",end=\"\")\n",
    "    print()\n",
    "            "
   ]
  },
  {
   "cell_type": "code",
   "execution_count": 88,
   "id": "0e14809b",
   "metadata": {},
   "outputs": [
    {
     "name": "stdout",
     "output_type": "stream",
     "text": [
      "* \n",
      "* * \n",
      "* * * \n",
      "* * * * \n",
      "* * * * * \n",
      "* * * * \n",
      "* * * \n",
      "* * \n",
      "* \n",
      "\n"
     ]
    }
   ],
   "source": [
    "#pattern21\n",
    "for i in range(n):\n",
    "    for j in range(i+1):\n",
    "        print(\"*\",end=\" \")\n",
    "    print()\n",
    "    \n",
    "for i in range(n):\n",
    "    for j in range(n-i-1):\n",
    "        print(\"*\",end=\" \")\n",
    "    print()\n",
    "\n",
    "            "
   ]
  },
  {
   "cell_type": "code",
   "execution_count": null,
   "id": "8a64fc91",
   "metadata": {},
   "outputs": [],
   "source": []
  }
 ],
 "metadata": {
  "kernelspec": {
   "display_name": "Python 3 (ipykernel)",
   "language": "python",
   "name": "python3"
  },
  "language_info": {
   "codemirror_mode": {
    "name": "ipython",
    "version": 3
   },
   "file_extension": ".py",
   "mimetype": "text/x-python",
   "name": "python",
   "nbconvert_exporter": "python",
   "pygments_lexer": "ipython3",
   "version": "3.9.12"
  }
 },
 "nbformat": 4,
 "nbformat_minor": 5
}
